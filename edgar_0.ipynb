{
  "nbformat": 4,
  "nbformat_minor": 0,
  "metadata": {
    "colab": {
      "provenance": [],
      "authorship_tag": "ABX9TyMiRvxN97Wi2SGFe8L2L9+6",
      "include_colab_link": true
    },
    "kernelspec": {
      "name": "python3",
      "display_name": "Python 3"
    },
    "language_info": {
      "name": "python"
    }
  },
  "cells": [
    {
      "cell_type": "markdown",
      "metadata": {
        "id": "view-in-github",
        "colab_type": "text"
      },
      "source": [
        "<a href=\"https://colab.research.google.com/github/Akasxh/Stock_Analysis/blob/main/sec_edgar.ipynb\" target=\"_parent\"><img src=\"https://colab.research.google.com/assets/colab-badge.svg\" alt=\"Open In Colab\"/></a>"
      ]
    },
    {
      "cell_type": "code",
      "source": [
        "pip install beautifulsoup4"
      ],
      "metadata": {
        "id": "j-H8WDLk4vMp",
        "outputId": "68e245f6-3430-4e17-81d7-1ca5852d3f7f",
        "colab": {
          "base_uri": "https://localhost:8080/"
        }
      },
      "execution_count": 37,
      "outputs": [
        {
          "output_type": "stream",
          "name": "stdout",
          "text": [
            "Requirement already satisfied: beautifulsoup4 in /usr/local/lib/python3.10/dist-packages (4.12.3)\n",
            "Requirement already satisfied: soupsieve>1.2 in /usr/local/lib/python3.10/dist-packages (from beautifulsoup4) (2.5)\n"
          ]
        }
      ]
    },
    {
      "cell_type": "code",
      "source": [
        "pip install sec-edgar-downloader"
      ],
      "metadata": {
        "colab": {
          "base_uri": "https://localhost:8080/"
        },
        "id": "6c6Gg_06yvY5",
        "outputId": "6058a2d2-aee7-48d0-c337-8bd2cf142f1c"
      },
      "execution_count": 38,
      "outputs": [
        {
          "output_type": "stream",
          "name": "stdout",
          "text": [
            "Requirement already satisfied: sec-edgar-downloader in /usr/local/lib/python3.10/dist-packages (5.0.2)\n",
            "Requirement already satisfied: requests in /usr/local/lib/python3.10/dist-packages (from sec-edgar-downloader) (2.31.0)\n",
            "Requirement already satisfied: pyrate-limiter>=3.1.0 in /usr/local/lib/python3.10/dist-packages (from sec-edgar-downloader) (3.6.1)\n",
            "Requirement already satisfied: charset-normalizer<4,>=2 in /usr/local/lib/python3.10/dist-packages (from requests->sec-edgar-downloader) (3.3.2)\n",
            "Requirement already satisfied: idna<4,>=2.5 in /usr/local/lib/python3.10/dist-packages (from requests->sec-edgar-downloader) (3.7)\n",
            "Requirement already satisfied: urllib3<3,>=1.21.1 in /usr/local/lib/python3.10/dist-packages (from requests->sec-edgar-downloader) (2.0.7)\n",
            "Requirement already satisfied: certifi>=2017.4.17 in /usr/local/lib/python3.10/dist-packages (from requests->sec-edgar-downloader) (2024.2.2)\n"
          ]
        }
      ]
    },
    {
      "cell_type": "code",
      "source": [
        "pip install openpyxl"
      ],
      "metadata": {
        "id": "sdRGoD2Kq_dH",
        "outputId": "c0068f57-7f63-4d47-975e-c23c8f1f20f7",
        "colab": {
          "base_uri": "https://localhost:8080/"
        }
      },
      "execution_count": 39,
      "outputs": [
        {
          "output_type": "stream",
          "name": "stdout",
          "text": [
            "Requirement already satisfied: openpyxl in /usr/local/lib/python3.10/dist-packages (3.1.2)\n",
            "Requirement already satisfied: et-xmlfile in /usr/local/lib/python3.10/dist-packages (from openpyxl) (1.1.0)\n"
          ]
        }
      ]
    },
    {
      "cell_type": "code",
      "source": [
        "pip install arelle"
      ],
      "metadata": {
        "id": "LyQ9oMLNrHd7",
        "outputId": "14214765-16ec-4ea9-cff7-813b64d37e8a",
        "colab": {
          "base_uri": "https://localhost:8080/"
        }
      },
      "execution_count": 40,
      "outputs": [
        {
          "output_type": "stream",
          "name": "stdout",
          "text": [
            "Requirement already satisfied: arelle in /usr/local/lib/python3.10/dist-packages (2.2)\n"
          ]
        }
      ]
    },
    {
      "cell_type": "code",
      "execution_count": 41,
      "metadata": {
        "id": "p9lI3gigyJdB"
      },
      "outputs": [],
      "source": [
        "from sec_edgar_downloader import Downloader"
      ]
    },
    {
      "cell_type": "code",
      "source": [
        "import os\n",
        "import glob\n",
        "from bs4 import BeautifulSoup\n",
        "import pandas as pd\n",
        "from textblob import TextBlob\n",
        "from datetime import datetime"
      ],
      "metadata": {
        "id": "3gnjGfd2-Jiw"
      },
      "execution_count": 42,
      "outputs": []
    },
    {
      "cell_type": "code",
      "source": [
        "# Initialize the downloader\n",
        "dl = Downloader(\"YOUR_COMPANY_NAME\", \"YOUR_EMAIL_ADDRESS\",\"/content\")"
      ],
      "metadata": {
        "id": "vz3939UgzL0i"
      },
      "execution_count": 43,
      "outputs": []
    },
    {
      "cell_type": "code",
      "source": [
        "def extract_text_from_html(file_path):\n",
        "    # Ensure the file exists\n",
        "    if not os.path.exists(file_path):\n",
        "        return \"File does not exist\"\n",
        "\n",
        "    with open(file_path, 'r', encoding='utf-8') as file:\n",
        "        html_content = file.read()\n",
        "\n",
        "    # Parse the HTML content using BeautifulSoup\n",
        "    soup = BeautifulSoup(html_content, 'html.parser')\n",
        "\n",
        "    # Extract text from the parsed HTML\n",
        "    text = soup.get_text(separator='\\n', strip=True)\n",
        "\n",
        "    return text"
      ],
      "metadata": {
        "id": "o_oBlMhu46TJ"
      },
      "execution_count": 46,
      "outputs": []
    },
    {
      "cell_type": "code",
      "source": [
        "def truncate_and_overwrite(file_path, target_line):\n",
        "    \"\"\"\n",
        "    Truncates the file content after a specific target line and overwrites the original file.\n",
        "\n",
        "    :param file_path: Path to the file to be modified.\n",
        "    :param target_line: The line after which all text should be discarded.\n",
        "    \"\"\"\n",
        "    # Read the content and truncate after the target line\n",
        "    with open(file_path, 'r', encoding='utf-8') as infile:\n",
        "        lines = infile.readlines()\n",
        "    target_line = ' XBRL INSTANCE DOCUMENT'\n",
        "    # Determine the point to truncate\n",
        "    for i, line in enumerate(lines):\n",
        "        if target_line in line:\n",
        "            lines = lines[:i+1]  # Include the target line and stop after\n",
        "            break\n",
        "\n",
        "    # Overwrite the original file with truncated content\n",
        "    with open(file_path, 'w', encoding='utf-8') as outfile:\n",
        "        outfile.writelines(lines)\n",
        "\n",
        "\n",
        "\n",
        "\n"
      ],
      "metadata": {
        "id": "PUL90O1Iq4ej"
      },
      "execution_count": 52,
      "outputs": []
    },
    {
      "cell_type": "code",
      "source": [
        "def merge(company_ticker):\n",
        "    # Assuming dl.get() is correctly imported and functional\n",
        "    dl.get(\"10-K\", company_ticker.upper(), after=\"1995-01-01\", before=\"2023-01-01\", download_details=False)\n",
        "\n",
        "    # Define the base directory\n",
        "    base_directory = '/content'\n",
        "\n",
        "    # List and sort subdirectories by modification time, latest first\n",
        "    subdirectories = [os.path.join(base_directory, name) for name in os.listdir(base_directory) if os.path.isdir(os.path.join(base_directory, name))]\n",
        "    subdirectories.sort(key=lambda x: os.path.getmtime(x), reverse=True)\n",
        "    latest_directory = subdirectories[0]  # Select the latest directory\n",
        "\n",
        "    # Process all text files in the latest directory\n",
        "    file_paths = [os.path.join(latest_directory, file) for file in os.listdir(latest_directory) if file.endswith('.txt')]\n",
        "    # Open one file for all merged content\n",
        "    output_filename = f'/content/merged_output_{company_ticker.upper()}.txt'\n",
        "\n",
        "    #print(extract_text_from_html(\"/content/sec-edgar-filings/AAPL/10-K/0000320193-17-000070/full-submission.txt\"))\n",
        "\n",
        "\n",
        "\n",
        "    with open(output_filename, 'w') as output_file:\n",
        "\n",
        "      for file_path in file_paths:\n",
        "        truncate_and_overwrite(file_path)\n",
        "        extracted_data = extract_text_from_html(file_path)\n",
        "        output_file.write(extracted_data + '\\n')  # Write data to the file with a newline\n",
        "\n"
      ],
      "metadata": {
        "id": "PzuLmrji_imW"
      },
      "execution_count": 47,
      "outputs": []
    },
    {
      "cell_type": "code",
      "source": [],
      "metadata": {
        "id": "JGDVVQuP-WXw"
      },
      "execution_count": 7,
      "outputs": []
    },
    {
      "cell_type": "code",
      "source": [
        "def visualise(company_ticker):\n",
        "    merge(company_ticker)"
      ],
      "metadata": {
        "id": "30rV8-tS969o"
      },
      "execution_count": 48,
      "outputs": []
    },
    {
      "cell_type": "code",
      "source": [
        "def main():\n",
        "    company_ticker = input(\"Enter the company ticker: \")\n",
        "    visualise(company_ticker)"
      ],
      "metadata": {
        "id": "YUZs3DQbzBjM"
      },
      "execution_count": 49,
      "outputs": []
    },
    {
      "cell_type": "code",
      "source": [
        "main()"
      ],
      "metadata": {
        "colab": {
          "base_uri": "https://localhost:8080/"
        },
        "id": "EkEd2PfS9siv",
        "outputId": "e5ea64e4-dc8a-435a-9f64-20d2334c313b"
      },
      "execution_count": 53,
      "outputs": [
        {
          "name": "stdout",
          "output_type": "stream",
          "text": [
            "Enter the company ticker: AAPL\n"
          ]
        }
      ]
    },
    {
      "cell_type": "code",
      "source": [],
      "metadata": {
        "id": "HeJjxp7u2Ey2"
      },
      "execution_count": null,
      "outputs": []
    },
    {
      "cell_type": "code",
      "source": [
        "from IPython.display import display, HTML\n",
        "\n",
        "# Specify the path to your HTML file\n",
        "file_path = '/content/sec-edgar-filings/AAPL/10-K/0000320193-17-000070/full-submission.txt'\n",
        "\n",
        "# Open and read the HTML file\n",
        "with open(file_path, 'r', encoding='utf-8') as file:\n",
        "    html_content = file.read()\n",
        "\n",
        "# Display the HTML content in the notebook\n",
        "display(HTML(html_content))"
      ],
      "metadata": {
        "id": "kBqSQ1o75zOK"
      },
      "execution_count": null,
      "outputs": []
    }
  ]
}
