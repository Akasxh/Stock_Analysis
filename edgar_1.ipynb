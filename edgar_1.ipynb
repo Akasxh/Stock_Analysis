{
  "nbformat": 4,
  "nbformat_minor": 0,
  "metadata": {
    "colab": {
      "provenance": [],
      "include_colab_link": true
    },
    "kernelspec": {
      "name": "python3",
      "display_name": "Python 3"
    },
    "language_info": {
      "name": "python"
    }
  },
  "cells": [
    {
      "cell_type": "markdown",
      "metadata": {
        "id": "view-in-github",
        "colab_type": "text"
      },
      "source": [
        "<a href=\"https://colab.research.google.com/github/Akasxh/Stock_Analysis/blob/main/edgar_1.ipynb\" target=\"_parent\"><img src=\"https://colab.research.google.com/assets/colab-badge.svg\" alt=\"Open In Colab\"/></a>"
      ]
    },
    {
      "cell_type": "code",
      "execution_count": 3,
      "metadata": {
        "id": "_cwe5QgjEFzx",
        "colab": {
          "base_uri": "https://localhost:8080/"
        },
        "outputId": "13052325-63f2-417a-9dba-2673d4486823"
      },
      "outputs": [
        {
          "output_type": "stream",
          "name": "stdout",
          "text": [
            "Requirement already satisfied: beautifulsoup4 in /usr/local/lib/python3.10/dist-packages (4.12.3)\n",
            "Requirement already satisfied: soupsieve>1.2 in /usr/local/lib/python3.10/dist-packages (from beautifulsoup4) (2.5)\n",
            "Collecting sec-edgar-downloader\n",
            "  Downloading sec_edgar_downloader-5.0.2-py3-none-any.whl (14 kB)\n",
            "Requirement already satisfied: requests in /usr/local/lib/python3.10/dist-packages (from sec-edgar-downloader) (2.31.0)\n",
            "Collecting pyrate-limiter>=3.1.0 (from sec-edgar-downloader)\n",
            "  Downloading pyrate_limiter-3.6.1-py3-none-any.whl (26 kB)\n",
            "Requirement already satisfied: charset-normalizer<4,>=2 in /usr/local/lib/python3.10/dist-packages (from requests->sec-edgar-downloader) (3.3.2)\n",
            "Requirement already satisfied: idna<4,>=2.5 in /usr/local/lib/python3.10/dist-packages (from requests->sec-edgar-downloader) (3.7)\n",
            "Requirement already satisfied: urllib3<3,>=1.21.1 in /usr/local/lib/python3.10/dist-packages (from requests->sec-edgar-downloader) (2.0.7)\n",
            "Requirement already satisfied: certifi>=2017.4.17 in /usr/local/lib/python3.10/dist-packages (from requests->sec-edgar-downloader) (2024.2.2)\n",
            "Installing collected packages: pyrate-limiter, sec-edgar-downloader\n",
            "Successfully installed pyrate-limiter-3.6.1 sec-edgar-downloader-5.0.2\n",
            "Requirement already satisfied: openpyxl in /usr/local/lib/python3.10/dist-packages (3.1.2)\n",
            "Requirement already satisfied: et-xmlfile in /usr/local/lib/python3.10/dist-packages (from openpyxl) (1.1.0)\n",
            "Collecting arelle\n",
            "  Downloading arelle-2.2.tar.gz (1.9 MB)\n",
            "\u001b[2K     \u001b[90m━━━━━━━━━━━━━━━━━━━━━━━━━━━━━━━━━━━━━━━━\u001b[0m \u001b[32m1.9/1.9 MB\u001b[0m \u001b[31m9.6 MB/s\u001b[0m eta \u001b[36m0:00:00\u001b[0m\n",
            "\u001b[?25h  Preparing metadata (setup.py) ... \u001b[?25l\u001b[?25hdone\n",
            "Building wheels for collected packages: arelle\n",
            "  Building wheel for arelle (setup.py) ... \u001b[?25l\u001b[?25hdone\n",
            "  Created wheel for arelle: filename=arelle-2.2-py3-none-any.whl size=2060281 sha256=812fa9bcc07926c599ef7b2a708908055cde66256231d2fdfd734a6c6cf4eee4\n",
            "  Stored in directory: /root/.cache/pip/wheels/fc/68/39/f091b0572329199f0ecce0d6c49afe79c3c9f10c5a31ad56b0\n",
            "Successfully built arelle\n",
            "Installing collected packages: arelle\n",
            "Successfully installed arelle-2.2\n"
          ]
        }
      ],
      "source": [
        "!pip install beautifulsoup4\n",
        "\n",
        "!pip install sec-edgar-downloader\n",
        "\n",
        "!pip install openpyxl\n",
        "\n",
        "!pip install arelle"
      ]
    },
    {
      "cell_type": "code",
      "source": [
        "from sec_edgar_downloader import Downloader\n",
        "\n",
        "import os\n",
        "import glob\n",
        "import re\n",
        "from bs4 import BeautifulSoup\n",
        "import pandas as pd\n",
        "from textblob import TextBlob\n",
        "from datetime import datetime\n"
      ],
      "metadata": {
        "id": "LiTaQbfjEXga"
      },
      "execution_count": 13,
      "outputs": []
    },
    {
      "cell_type": "code",
      "source": [
        "# Initialize the downloader\n",
        "dl = Downloader(\"YOUR_COMPANY_NAME\", \"YOUR_EMAIL_ADDRESS\",\"/content\")"
      ],
      "metadata": {
        "id": "weYxeqANEb87"
      },
      "execution_count": 14,
      "outputs": []
    },
    {
      "cell_type": "code",
      "source": [
        "def extract_text_from_html(file_path):\n",
        "    # Ensure the file exists\n",
        "    if not os.path.exists(file_path):\n",
        "        return \"File does not exist\"\n",
        "\n",
        "    with open(file_path, 'r', encoding='utf-8') as file:\n",
        "        html_content = file.read()\n",
        "\n",
        "    # Parse the HTML content using BeautifulSoup\n",
        "    soup = BeautifulSoup(html_content, 'html.parser')\n",
        "\n",
        "    # Extract text from the parsed HTML\n",
        "    text = soup.get_text(separator='\\n', strip=True)\n",
        "\n",
        "    return text"
      ],
      "metadata": {
        "id": "Dr83YRcKEd89"
      },
      "execution_count": 6,
      "outputs": []
    },
    {
      "cell_type": "markdown",
      "source": [],
      "metadata": {
        "id": "y9xROE3UGXnW"
      }
    },
    {
      "cell_type": "code",
      "source": [
        "def truncate_and_overwrite(file_path, target_line='XBRL INSTANCE DOCUMENT'):\n",
        "    \"\"\"\n",
        "    Truncates the file content after a specific target line and overwrites the original file.\n",
        "\n",
        "    :param file_path: Path to the file to be modified.\n",
        "    :param target_line: The line after which all text should be discarded.\n",
        "    \"\"\"\n",
        "    try:\n",
        "        with open(file_path, 'r', encoding='utf-8') as infile:\n",
        "            lines = infile.readlines()\n",
        "\n",
        "        # Determine the point to truncate\n",
        "        truncation_point = None\n",
        "        for i, line in enumerate(lines):\n",
        "            if target_line in line:\n",
        "                truncation_point = i + 1  # Include the target line and stop after\n",
        "                break\n",
        "\n",
        "        # If the target line is found, truncate the lines\n",
        "        if truncation_point is not None:\n",
        "            lines = lines[:truncation_point]\n",
        "            # Overwrite the original file with truncated content\n",
        "            with open(file_path, 'w', encoding='utf-8') as outfile:\n",
        "                outfile.writelines(lines)\n",
        "        else:\n",
        "            print(f\"Target line '{target_line}' not found in file.\")\n",
        "    except Exception as e:\n",
        "        print(f\"An error occurred: {e}\")\n"
      ],
      "metadata": {
        "id": "_WtA7CZNFr2S"
      },
      "execution_count": 23,
      "outputs": []
    },
    {
      "cell_type": "code",
      "source": [
        "def merge(company_ticker):\n",
        "    dl.get(\"10-K\", company_ticker.upper(), after=\"1995-01-01\", before=\"2023-01-01\", download_details=False)\n",
        "    base_directory = f'/content/sec-edgar-filings/{company_ticker}/10-K'\n",
        "    file_paths = glob.glob(os.path.join(base_directory, '**', '*.txt'), recursive=True)\n",
        "\n",
        "    for file_path in file_paths:\n",
        "            truncate_and_overwrite(file_path)\n",
        "\n",
        "    #output_filename = f'/content/merged_output_{company_ticker.upper()}.txt'\n",
        "    '''with open(output_filename, 'w') as output_file:\n",
        "        for file_path in file_paths:\n",
        "            truncate_and_overwrite(file_path)\n",
        "            #extracted_data = extract_text_from_html(file_path)\n",
        "            #output_file.write(extracted_data + '\\n')'''\n"
      ],
      "metadata": {
        "id": "cXw03JByEn3D"
      },
      "execution_count": 26,
      "outputs": []
    },
    {
      "cell_type": "code",
      "source": [
        "def visualise(company_ticker):\n",
        "    merge(company_ticker)"
      ],
      "metadata": {
        "id": "5FJA4Ca8EtD7"
      },
      "execution_count": 17,
      "outputs": []
    },
    {
      "cell_type": "code",
      "source": [
        "def main():\n",
        "    company_ticker = input(\"Enter the company ticker: \")\n",
        "    visualise(company_ticker)"
      ],
      "metadata": {
        "id": "ZuA4DsjsE0Vs"
      },
      "execution_count": 18,
      "outputs": []
    },
    {
      "cell_type": "code",
      "source": [
        "main()"
      ],
      "metadata": {
        "id": "Mjx3j_NNE3FQ",
        "colab": {
          "base_uri": "https://localhost:8080/"
        },
        "outputId": "98cce7cc-4c89-480b-d602-7960868194c5"
      },
      "execution_count": 19,
      "outputs": [
        {
          "name": "stdout",
          "output_type": "stream",
          "text": [
            "Enter the company ticker: NFLX\n"
          ]
        }
      ]
    },
    {
      "cell_type": "code",
      "source": [
        "truncate_and_overwrite(\"/content/sec-edgar-filings/NFLX/10-K/0001065280-15-000006/full-submission.txt\")"
      ],
      "metadata": {
        "id": "Y-yYKIICGvtP"
      },
      "execution_count": 24,
      "outputs": []
    },
    {
      "cell_type": "code",
      "source": [],
      "metadata": {
        "id": "UuJSozQ4GuoR"
      },
      "execution_count": null,
      "outputs": []
    },
    {
      "cell_type": "code",
      "source": [],
      "metadata": {
        "id": "Ro3LBVfNGup7"
      },
      "execution_count": null,
      "outputs": []
    }
  ]
}