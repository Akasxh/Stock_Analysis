{
  "nbformat": 4,
  "nbformat_minor": 0,
  "metadata": {
    "colab": {
      "provenance": [],
      "include_colab_link": true
    },
    "kernelspec": {
      "name": "python3",
      "display_name": "Python 3"
    },
    "language_info": {
      "name": "python"
    }
  },
  "cells": [
    {
      "cell_type": "markdown",
      "metadata": {
        "id": "view-in-github",
        "colab_type": "text"
      },
      "source": [
        "<a href=\"https://colab.research.google.com/github/Akasxh/Stock_Analysis/blob/main/edgar_1.ipynb\" target=\"_parent\"><img src=\"https://colab.research.google.com/assets/colab-badge.svg\" alt=\"Open In Colab\"/></a>"
      ]
    },
    {
      "cell_type": "code",
      "execution_count": 7,
      "metadata": {
        "id": "_cwe5QgjEFzx",
        "colab": {
          "base_uri": "https://localhost:8080/"
        },
        "outputId": "5d0303a9-ebcf-4919-d26c-49d903cf3abe"
      },
      "outputs": [
        {
          "output_type": "stream",
          "name": "stdout",
          "text": [
            "Requirement already satisfied: beautifulsoup4 in /usr/local/lib/python3.10/dist-packages (4.12.3)\n",
            "Requirement already satisfied: soupsieve>1.2 in /usr/local/lib/python3.10/dist-packages (from beautifulsoup4) (2.5)\n",
            "Requirement already satisfied: sec-edgar-downloader in /usr/local/lib/python3.10/dist-packages (5.0.2)\n",
            "Requirement already satisfied: requests in /usr/local/lib/python3.10/dist-packages (from sec-edgar-downloader) (2.31.0)\n",
            "Requirement already satisfied: pyrate-limiter>=3.1.0 in /usr/local/lib/python3.10/dist-packages (from sec-edgar-downloader) (3.6.1)\n",
            "Requirement already satisfied: charset-normalizer<4,>=2 in /usr/local/lib/python3.10/dist-packages (from requests->sec-edgar-downloader) (3.3.2)\n",
            "Requirement already satisfied: idna<4,>=2.5 in /usr/local/lib/python3.10/dist-packages (from requests->sec-edgar-downloader) (3.7)\n",
            "Requirement already satisfied: urllib3<3,>=1.21.1 in /usr/local/lib/python3.10/dist-packages (from requests->sec-edgar-downloader) (2.0.7)\n",
            "Requirement already satisfied: certifi>=2017.4.17 in /usr/local/lib/python3.10/dist-packages (from requests->sec-edgar-downloader) (2024.2.2)\n",
            "Requirement already satisfied: openpyxl in /usr/local/lib/python3.10/dist-packages (3.1.2)\n",
            "Requirement already satisfied: et-xmlfile in /usr/local/lib/python3.10/dist-packages (from openpyxl) (1.1.0)\n",
            "Requirement already satisfied: arelle in /usr/local/lib/python3.10/dist-packages (2.2)\n",
            "Collecting streamlit\n",
            "  Downloading streamlit-1.34.0-py2.py3-none-any.whl (8.5 MB)\n",
            "\u001b[2K     \u001b[90m━━━━━━━━━━━━━━━━━━━━━━━━━━━━━━━━━━━━━━━━\u001b[0m \u001b[32m8.5/8.5 MB\u001b[0m \u001b[31m18.5 MB/s\u001b[0m eta \u001b[36m0:00:00\u001b[0m\n",
            "\u001b[?25hRequirement already satisfied: altair<6,>=4.0 in /usr/local/lib/python3.10/dist-packages (from streamlit) (4.2.2)\n",
            "Requirement already satisfied: blinker<2,>=1.0.0 in /usr/lib/python3/dist-packages (from streamlit) (1.4)\n",
            "Requirement already satisfied: cachetools<6,>=4.0 in /usr/local/lib/python3.10/dist-packages (from streamlit) (5.3.3)\n",
            "Requirement already satisfied: click<9,>=7.0 in /usr/local/lib/python3.10/dist-packages (from streamlit) (8.1.7)\n",
            "Requirement already satisfied: numpy<2,>=1.19.3 in /usr/local/lib/python3.10/dist-packages (from streamlit) (1.25.2)\n",
            "Requirement already satisfied: packaging<25,>=16.8 in /usr/local/lib/python3.10/dist-packages (from streamlit) (24.0)\n",
            "Requirement already satisfied: pandas<3,>=1.3.0 in /usr/local/lib/python3.10/dist-packages (from streamlit) (2.0.3)\n",
            "Requirement already satisfied: pillow<11,>=7.1.0 in /usr/local/lib/python3.10/dist-packages (from streamlit) (9.4.0)\n",
            "Requirement already satisfied: protobuf<5,>=3.20 in /usr/local/lib/python3.10/dist-packages (from streamlit) (3.20.3)\n",
            "Requirement already satisfied: pyarrow>=7.0 in /usr/local/lib/python3.10/dist-packages (from streamlit) (14.0.2)\n",
            "Requirement already satisfied: requests<3,>=2.27 in /usr/local/lib/python3.10/dist-packages (from streamlit) (2.31.0)\n",
            "Requirement already satisfied: rich<14,>=10.14.0 in /usr/local/lib/python3.10/dist-packages (from streamlit) (13.7.1)\n",
            "Requirement already satisfied: tenacity<9,>=8.1.0 in /usr/local/lib/python3.10/dist-packages (from streamlit) (8.2.3)\n",
            "Requirement already satisfied: toml<2,>=0.10.1 in /usr/local/lib/python3.10/dist-packages (from streamlit) (0.10.2)\n",
            "Requirement already satisfied: typing-extensions<5,>=4.3.0 in /usr/local/lib/python3.10/dist-packages (from streamlit) (4.11.0)\n",
            "Collecting gitpython!=3.1.19,<4,>=3.0.7 (from streamlit)\n",
            "  Downloading GitPython-3.1.43-py3-none-any.whl (207 kB)\n",
            "\u001b[2K     \u001b[90m━━━━━━━━━━━━━━━━━━━━━━━━━━━━━━━━━━━━━━━━\u001b[0m \u001b[32m207.3/207.3 kB\u001b[0m \u001b[31m19.5 MB/s\u001b[0m eta \u001b[36m0:00:00\u001b[0m\n",
            "\u001b[?25hCollecting pydeck<1,>=0.8.0b4 (from streamlit)\n",
            "  Downloading pydeck-0.9.0-py2.py3-none-any.whl (6.9 MB)\n",
            "\u001b[2K     \u001b[90m━━━━━━━━━━━━━━━━━━━━━━━━━━━━━━━━━━━━━━━━\u001b[0m \u001b[32m6.9/6.9 MB\u001b[0m \u001b[31m41.6 MB/s\u001b[0m eta \u001b[36m0:00:00\u001b[0m\n",
            "\u001b[?25hRequirement already satisfied: tornado<7,>=6.0.3 in /usr/local/lib/python3.10/dist-packages (from streamlit) (6.3.3)\n",
            "Collecting watchdog>=2.1.5 (from streamlit)\n",
            "  Downloading watchdog-4.0.0-py3-none-manylinux2014_x86_64.whl (82 kB)\n",
            "\u001b[2K     \u001b[90m━━━━━━━━━━━━━━━━━━━━━━━━━━━━━━━━━━━━━━━━\u001b[0m \u001b[32m83.0/83.0 kB\u001b[0m \u001b[31m9.6 MB/s\u001b[0m eta \u001b[36m0:00:00\u001b[0m\n",
            "\u001b[?25hRequirement already satisfied: entrypoints in /usr/local/lib/python3.10/dist-packages (from altair<6,>=4.0->streamlit) (0.4)\n",
            "Requirement already satisfied: jinja2 in /usr/local/lib/python3.10/dist-packages (from altair<6,>=4.0->streamlit) (3.1.3)\n",
            "Requirement already satisfied: jsonschema>=3.0 in /usr/local/lib/python3.10/dist-packages (from altair<6,>=4.0->streamlit) (4.19.2)\n",
            "Requirement already satisfied: toolz in /usr/local/lib/python3.10/dist-packages (from altair<6,>=4.0->streamlit) (0.12.1)\n",
            "Collecting gitdb<5,>=4.0.1 (from gitpython!=3.1.19,<4,>=3.0.7->streamlit)\n",
            "  Downloading gitdb-4.0.11-py3-none-any.whl (62 kB)\n",
            "\u001b[2K     \u001b[90m━━━━━━━━━━━━━━━━━━━━━━━━━━━━━━━━━━━━━━━━\u001b[0m \u001b[32m62.7/62.7 kB\u001b[0m \u001b[31m7.0 MB/s\u001b[0m eta \u001b[36m0:00:00\u001b[0m\n",
            "\u001b[?25hRequirement already satisfied: python-dateutil>=2.8.2 in /usr/local/lib/python3.10/dist-packages (from pandas<3,>=1.3.0->streamlit) (2.8.2)\n",
            "Requirement already satisfied: pytz>=2020.1 in /usr/local/lib/python3.10/dist-packages (from pandas<3,>=1.3.0->streamlit) (2023.4)\n",
            "Requirement already satisfied: tzdata>=2022.1 in /usr/local/lib/python3.10/dist-packages (from pandas<3,>=1.3.0->streamlit) (2024.1)\n",
            "Requirement already satisfied: charset-normalizer<4,>=2 in /usr/local/lib/python3.10/dist-packages (from requests<3,>=2.27->streamlit) (3.3.2)\n",
            "Requirement already satisfied: idna<4,>=2.5 in /usr/local/lib/python3.10/dist-packages (from requests<3,>=2.27->streamlit) (3.7)\n",
            "Requirement already satisfied: urllib3<3,>=1.21.1 in /usr/local/lib/python3.10/dist-packages (from requests<3,>=2.27->streamlit) (2.0.7)\n",
            "Requirement already satisfied: certifi>=2017.4.17 in /usr/local/lib/python3.10/dist-packages (from requests<3,>=2.27->streamlit) (2024.2.2)\n",
            "Requirement already satisfied: markdown-it-py>=2.2.0 in /usr/local/lib/python3.10/dist-packages (from rich<14,>=10.14.0->streamlit) (3.0.0)\n",
            "Requirement already satisfied: pygments<3.0.0,>=2.13.0 in /usr/local/lib/python3.10/dist-packages (from rich<14,>=10.14.0->streamlit) (2.16.1)\n",
            "Collecting smmap<6,>=3.0.1 (from gitdb<5,>=4.0.1->gitpython!=3.1.19,<4,>=3.0.7->streamlit)\n",
            "  Downloading smmap-5.0.1-py3-none-any.whl (24 kB)\n",
            "Requirement already satisfied: MarkupSafe>=2.0 in /usr/local/lib/python3.10/dist-packages (from jinja2->altair<6,>=4.0->streamlit) (2.1.5)\n",
            "Requirement already satisfied: attrs>=22.2.0 in /usr/local/lib/python3.10/dist-packages (from jsonschema>=3.0->altair<6,>=4.0->streamlit) (23.2.0)\n",
            "Requirement already satisfied: jsonschema-specifications>=2023.03.6 in /usr/local/lib/python3.10/dist-packages (from jsonschema>=3.0->altair<6,>=4.0->streamlit) (2023.12.1)\n",
            "Requirement already satisfied: referencing>=0.28.4 in /usr/local/lib/python3.10/dist-packages (from jsonschema>=3.0->altair<6,>=4.0->streamlit) (0.35.1)\n",
            "Requirement already satisfied: rpds-py>=0.7.1 in /usr/local/lib/python3.10/dist-packages (from jsonschema>=3.0->altair<6,>=4.0->streamlit) (0.18.0)\n",
            "Requirement already satisfied: mdurl~=0.1 in /usr/local/lib/python3.10/dist-packages (from markdown-it-py>=2.2.0->rich<14,>=10.14.0->streamlit) (0.1.2)\n",
            "Requirement already satisfied: six>=1.5 in /usr/local/lib/python3.10/dist-packages (from python-dateutil>=2.8.2->pandas<3,>=1.3.0->streamlit) (1.16.0)\n",
            "Installing collected packages: watchdog, smmap, pydeck, gitdb, gitpython, streamlit\n",
            "Successfully installed gitdb-4.0.11 gitpython-3.1.43 pydeck-0.9.0 smmap-5.0.1 streamlit-1.34.0 watchdog-4.0.0\n"
          ]
        }
      ],
      "source": [
        "!pip install beautifulsoup4\n",
        "\n",
        "!pip install sec-edgar-downloader\n",
        "\n",
        "!pip install openpyxl\n",
        "\n",
        "!pip install arelle\n",
        "\n",
        "!pip install streamlit"
      ]
    },
    {
      "cell_type": "code",
      "source": [
        "from sec_edgar_downloader import Downloader\n",
        "\n",
        "import os\n",
        "import glob\n",
        "import re\n",
        "from bs4 import BeautifulSoup\n",
        "import pandas as pd\n",
        "from textblob import TextBlob\n",
        "from datetime import datetime\n",
        "import streamlit as st\n",
        "import pandas as pd\n",
        "import matplotlib.pyplot as plt\n"
      ],
      "metadata": {
        "id": "LiTaQbfjEXga"
      },
      "execution_count": 8,
      "outputs": []
    },
    {
      "cell_type": "code",
      "source": [
        "# Initialize the downloader\n",
        "dl = Downloader(\"YOUR_COMPANY_NAME\", \"YOUR_EMAIL_ADDRESS\",\"/content\")"
      ],
      "metadata": {
        "id": "weYxeqANEb87"
      },
      "execution_count": 14,
      "outputs": []
    },
    {
      "cell_type": "code",
      "source": [
        "def extract_text_from_html(file_path):\n",
        "    # Ensure the file exists\n",
        "    if not os.path.exists(file_path):\n",
        "        return \"File does not exist\"\n",
        "\n",
        "    with open(file_path, 'r', encoding='utf-8') as file:\n",
        "        html_content = file.read()\n",
        "\n",
        "    # Parse the HTML content using BeautifulSoup\n",
        "    soup = BeautifulSoup(html_content, 'html.parser')\n",
        "\n",
        "    # Extract text from the parsed HTML\n",
        "    text = soup.get_text(separator='\\n', strip=True)\n",
        "\n",
        "    return text"
      ],
      "metadata": {
        "id": "Dr83YRcKEd89"
      },
      "execution_count": 6,
      "outputs": []
    },
    {
      "cell_type": "markdown",
      "source": [],
      "metadata": {
        "id": "y9xROE3UGXnW"
      }
    },
    {
      "cell_type": "code",
      "source": [
        "def truncate_and_overwrite(file_path, target_line='XBRL INSTANCE DOCUMENT'):\n",
        "    \"\"\"\n",
        "    Truncates the file content after a specific target line and overwrites the original file.\n",
        "\n",
        "    :param file_path: Path to the file to be modified.\n",
        "    :param target_line: The line after which all text should be discarded.\n",
        "    \"\"\"\n",
        "    try:\n",
        "        with open(file_path, 'r', encoding='utf-8') as infile:\n",
        "            lines = infile.readlines()\n",
        "\n",
        "        # Determine the point to truncate\n",
        "        truncation_point = None\n",
        "        for i, line in enumerate(lines):\n",
        "            if target_line in line:\n",
        "                truncation_point = i + 1  # Include the target line and stop after\n",
        "                break\n",
        "\n",
        "        # If the target line is found, truncate the lines\n",
        "        if truncation_point is not None:\n",
        "            lines = lines[:truncation_point]\n",
        "            # Overwrite the original file with truncated content\n",
        "            with open(file_path, 'w', encoding='utf-8') as outfile:\n",
        "                outfile.writelines(lines)\n",
        "        else:\n",
        "            print(f\"Target line '{target_line}' not found in file.\")\n",
        "    except Exception as e:\n",
        "        print(f\"An error occurred: {e}\")\n"
      ],
      "metadata": {
        "id": "_WtA7CZNFr2S"
      },
      "execution_count": 23,
      "outputs": []
    },
    {
      "cell_type": "code",
      "source": [
        "def merge(company_ticker):\n",
        "    dl.get(\"10-K\", company_ticker.upper(), after=\"1995-01-01\", before=\"2023-01-01\", download_details=False)\n",
        "    base_directory = f'/content/sec-edgar-filings/{company_ticker}/10-K'\n",
        "    file_paths = glob.glob(os.path.join(base_directory, '**', '*.txt'), recursive=True)\n",
        "\n",
        "    for file_path in file_paths:\n",
        "            truncate_and_overwrite(file_path)\n",
        "\n",
        "    #output_filename = f'/content/merged_output_{company_ticker.upper()}.txt'\n",
        "    '''with open(output_filename, 'w') as output_file:\n",
        "        for file_path in file_paths:\n",
        "            truncate_and_overwrite(file_path)\n",
        "            #extracted_data = extract_text_from_html(file_path)\n",
        "            #output_file.write(extracted_data + '\\n')'''\n"
      ],
      "metadata": {
        "id": "cXw03JByEn3D"
      },
      "execution_count": 26,
      "outputs": []
    },
    {
      "cell_type": "code",
      "source": [
        "def visualise(company_ticker):\n",
        "    merge(company_ticker)"
      ],
      "metadata": {
        "id": "5FJA4Ca8EtD7"
      },
      "execution_count": 17,
      "outputs": []
    },
    {
      "cell_type": "code",
      "source": [
        "def main():\n",
        "    company_ticker = input(\"Enter the company ticker: \")\n",
        "    visualise(company_ticker)"
      ],
      "metadata": {
        "id": "ZuA4DsjsE0Vs"
      },
      "execution_count": 18,
      "outputs": []
    },
    {
      "cell_type": "code",
      "source": [
        "main()"
      ],
      "metadata": {
        "id": "Mjx3j_NNE3FQ",
        "colab": {
          "base_uri": "https://localhost:8080/"
        },
        "outputId": "98cce7cc-4c89-480b-d602-7960868194c5"
      },
      "execution_count": 19,
      "outputs": [
        {
          "name": "stdout",
          "output_type": "stream",
          "text": [
            "Enter the company ticker: NFLX\n"
          ]
        }
      ]
    },
    {
      "cell_type": "code",
      "source": [
        "truncate_and_overwrite(\"/content/sec-edgar-filings/NFLX/10-K/0001065280-15-000006/full-submission.txt\")"
      ],
      "metadata": {
        "id": "Y-yYKIICGvtP"
      },
      "execution_count": 24,
      "outputs": []
    },
    {
      "cell_type": "code",
      "source": [],
      "metadata": {
        "id": "UuJSozQ4GuoR"
      },
      "execution_count": null,
      "outputs": []
    },
    {
      "cell_type": "code",
      "source": [
        "# Title for the application\n",
        "st.title(\"Financial Analysis Dashboard\")\n",
        "\n",
        "# Sidebar for API key input\n",
        "st.sidebar.markdown(\"## Setup\")\n",
        "api_key_input = st.sidebar.text_input(\n",
        "    \"OpenAI API Key\",\n",
        "    type=\"password\",\n",
        "    placeholder=\"Paste your OpenAI API key here (sk-...)\",\n",
        "    help=\"You can get your API key from https://platform.openai.com/account/api-keys.\"\n",
        ")\n",
        "\n",
        "# Sidebar for entering the company ticker\n",
        "company_ticker = st.sidebar.text_input(\n",
        "    \"Enter Company Ticker\",\n",
        "    placeholder=\"E.g., AAPL, GOOGL\",\n",
        "    help=\"Enter the ticker symbol of the company you wish to analyze.\"\n",
        ")\n",
        "\n",
        "# Placeholder for displaying graphs and analysis\n",
        "st.sidebar.markdown(\"---\")\n",
        "data_display = st.empty()\n",
        "graph_display = st.empty()\n",
        "\n",
        "# Main function that uses the API to perform analysis and fetch data\n",
        "def perform_analysis(api_key, ticker):\n",
        "    if not api_key or not ticker:\n",
        "        st.error(\"Please enter both your OpenAI API key and the company ticker.\")\n",
        "        return\n",
        "\n",
        "    # Example of fetching and processing data (mock-up)\n",
        "    # In reality, you would use the OpenAI API here to fetch and process the company's data\n",
        "    data = pd.DataFrame({\n",
        "        'Date': pd.date_range(start='1/1/2020', periods=100),\n",
        "        'Value': pd.np.random.rand(100).cumsum()\n",
        "    })\n",
        "\n",
        "    # Display the data\n",
        "    data_display.dataframe(data)\n",
        "\n",
        "    # Plotting a graph of the data\n",
        "    plt.figure(figsize=(10, 4))\n",
        "    plt.plot(data['Date'], data['Value'], marker='o', linestyle='-')\n",
        "    plt.title('Company Financial Performance Over Time')\n",
        "    plt.xlabel('Date')\n",
        "    plt.ylabel('Value')\n",
        "    plt.grid(True)\n",
        "    plt.xticks(rotation=45)\n",
        "    plt.tight_layout()\n",
        "\n",
        "    # Show the graph\n",
        "    graph_display.pyplot(plt)\n",
        "\n",
        "# Button to trigger the analysis\n",
        "if st.sidebar.button('Analyze'):\n",
        "    perform_analysis(api_key_input, company_ticker)\n"
      ],
      "metadata": {
        "id": "Ro3LBVfNGup7",
        "colab": {
          "base_uri": "https://localhost:8080/"
        },
        "outputId": "e2f1c673-4180-46f6-f16b-1a28397a9c0b"
      },
      "execution_count": 9,
      "outputs": [
        {
          "output_type": "stream",
          "name": "stderr",
          "text": [
            "2024-05-08 14:56:11.195 \n",
            "  \u001b[33m\u001b[1mWarning:\u001b[0m to view this Streamlit app on a browser, run it with the following\n",
            "  command:\n",
            "\n",
            "    streamlit run /usr/local/lib/python3.10/dist-packages/colab_kernel_launcher.py [ARGUMENTS]\n",
            "2024-05-08 14:56:11.199 Session state does not function when running a script without `streamlit run`\n"
          ]
        }
      ]
    },
    {
      "cell_type": "code",
      "source": [],
      "metadata": {
        "id": "LdMU0vJEtMZN"
      },
      "execution_count": null,
      "outputs": []
    }
  ]
}
